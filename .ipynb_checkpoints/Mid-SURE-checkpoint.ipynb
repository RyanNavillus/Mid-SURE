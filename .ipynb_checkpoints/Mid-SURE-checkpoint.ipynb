{
 "cells": [
  {
   "cell_type": "markdown",
   "metadata": {},
   "source": [
    "# Deep Learning Methods for Automatic Evaluation of Lines In Chest Radiographs\n",
    "---"
   ]
  },
  {
   "cell_type": "markdown",
   "metadata": {},
   "source": [
    "## UNet Models"
   ]
  },
  {
   "cell_type": "markdown",
   "metadata": {},
   "source": [
    "### ResNet50"
   ]
  },
  {
   "cell_type": "markdown",
   "metadata": {},
   "source": [
    "Loss Function: Weighted Binary Cross Entropy + Dice Loss"
   ]
  },
  {
   "cell_type": "markdown",
   "metadata": {},
   "source": [
    "Test Set Metrics:\n",
    "* Loss: 0.79\n",
    "* Accuracy: 0.990\n",
    "* Dice Coefficient: 0.464\n",
    "* Intersection Over Union: 0.650"
   ]
  },
  {
   "cell_type": "markdown",
   "metadata": {},
   "source": [
    "\n",
    "<div style=\"display:block; width:100%\"><img src=\"./Sample_Predictions/1563556940.096606_prediction-0.png#thumbnail\" alt=\"\" title=\"A cute kitten\" width=\"45%\" height=\"45%\" style=\"display: inline\" />\n",
    "<img src=\"./Sample_Predictions/1563556940.096606_prediction-1.png#thumbnail\" alt=\"\" title=\"A cute kitten\" width=\"45%\" height=\"45%\" style=\"display: inline\" />\n",
    "</div>\n",
    "<img src=\"./Sample_Predictions/1563556940.096606_prediction-2.png#thumbnail\" alt=\"\" title=\"A cute kitten\" width=\"256\" height=\"256\" style=\"display: inline\" />\n",
    "<img src=\"./Sample_Predictions/1563556940.096606_prediction-3.png#thumbnail\" alt=\"\" title=\"A cute kitten\" width=\"256\" height=\"256\" style=\"display: inline\" />\n",
    "<img src=\"./Sample_Predictions/1563556940.096606_prediction-4.png#thumbnail\" alt=\"\" title=\"A cute kitten\" width=\"256\" height=\"256\" style=\"display: inline\" />\n",
    "<img src=\"./Sample_Predictions/1563556940.096606_prediction-5.png#thumbnail\" alt=\"\" title=\"A cute kitten\" width=\"256\" height=\"256\" style=\"display: inline\" />\n",
    "<img src=\"./Sample_Predictions/1563556940.096606_prediction-6.png#thumbnail\" alt=\"\" title=\"A cute kitten\" width=\"256\" height=\"256\" style=\"display: inline\" />\n",
    "<img src=\"./Sample_Predictions/1563556940.096606_prediction-7.png#thumbnail\" alt=\"\" title=\"A cute kitten\" width=\"256\" height=\"256\" style=\"display: inline\" />\n",
    "<img src=\"./Sample_Predictions/1563556940.096606_prediction-8.png#thumbnail\" alt=\"\" title=\"A cute kitten\" width=\"256\" height=\"256\" style=\"display: inline\" />\n",
    "<img src=\"./Sample_Predictions/1563556940.096606_prediction-9.png#thumbnail\" alt=\"\" title=\"A cute kitten\" width=\"256\" height=\"256\" style=\"display: inline\" />\n"
   ]
  },
  {
   "cell_type": "code",
   "execution_count": null,
   "metadata": {},
   "outputs": [],
   "source": []
  },
  {
   "cell_type": "code",
   "execution_count": null,
   "metadata": {},
   "outputs": [],
   "source": []
  },
  {
   "cell_type": "code",
   "execution_count": null,
   "metadata": {},
   "outputs": [],
   "source": []
  },
  {
   "cell_type": "code",
   "execution_count": null,
   "metadata": {},
   "outputs": [],
   "source": []
  }
 ],
 "metadata": {
  "kernelspec": {
   "display_name": "Python 3",
   "language": "python",
   "name": "python3"
  },
  "language_info": {
   "codemirror_mode": {
    "name": "ipython",
    "version": 3
   },
   "file_extension": ".py",
   "mimetype": "text/x-python",
   "name": "python",
   "nbconvert_exporter": "python",
   "pygments_lexer": "ipython3",
   "version": "3.6.8"
  }
 },
 "nbformat": 4,
 "nbformat_minor": 2
}
