{
 "cells": [
  {
   "cell_type": "markdown",
   "metadata": {},
   "source": [
    "# Deep Learning Methods for Automatic Evaluation of Lines In Chest Radiographs\n",
    "---"
   ]
  },
  {
   "cell_type": "markdown",
   "metadata": {},
   "source": [
    "## UNet Models"
   ]
  },
  {
   "cell_type": "markdown",
   "metadata": {},
   "source": [
    "### ResNet50"
   ]
  },
  {
   "cell_type": "markdown",
   "metadata": {},
   "source": [
    "Loss Function: Weighted Binary Cross Entropy + Dice Loss"
   ]
  },
  {
   "cell_type": "markdown",
   "metadata": {},
   "source": [
    "Test Set Metrics:\n",
    "* **Loss**: 0.797\n",
    "* **Accuracy**: 0.990\n",
    "* **Dice Coefficient**: 0.464\n",
    "* **Intersection Over Union**: 0.650"
   ]
  },
  {
   "cell_type": "markdown",
   "metadata": {},
   "source": [
    "<div style=\"display:block; width:100%\"><img src=\"./Sample_Predictions/1563556940.096606_prediction-0.png#thumbnail\" alt=\"\" width=\"49%\" height=\"49%\" style=\"display: inline\" />\n",
    "<img src=\"./Sample_Truths/True_prediction-0.png#thumbnail\" alt=\"\" width=\"49%\" height=\"49%\" style=\"display: inline\" />\n",
    "</div>\n",
    "<div style=\"display:block; width:100%\"><img src=\"./Sample_Predictions/1563556940.096606_prediction-1.png#thumbnail\" alt=\"\" width=\"49%\" height=\"49%\" style=\"display: inline\" />\n",
    "<img src=\"./Sample_Truths/True_prediction-1.png#thumbnail\" alt=\"\" width=\"49%\" height=\"49%\" style=\"display: inline\" />\n",
    "</div>\n",
    "<div style=\"display:block; width:100%\"><img src=\"./Sample_Predictions/1563556940.096606_prediction-2.png#thumbnail\" alt=\"\" width=\"49%\" height=\"49%\" style=\"display: inline\" />\n",
    "<img src=\"./Sample_Truths/True_prediction-2.png#thumbnail\" alt=\"\" width=\"49%\" height=\"49%\" style=\"display: inline\" />\n",
    "</div>\n",
    "<div style=\"display:block; width:100%\"><img src=\"./Sample_Predictions/1563556940.096606_prediction-3.png#thumbnail\" alt=\"\" width=\"49%\" height=\"49%\" style=\"display: inline\" />\n",
    "<img src=\"./Sample_Truths/True_prediction-3.png#thumbnail\" alt=\"\" width=\"49%\" height=\"49%\" style=\"display: inline\" />\n",
    "</div>\n",
    "<div style=\"display:block; width:100%\"><img src=\"./Sample_Predictions/1563556940.096606_prediction-4.png#thumbnail\" alt=\"\" width=\"49%\" height=\"49%\" style=\"display: inline\" />\n",
    "<img src=\"./Sample_Truths/True_prediction-4.png#thumbnail\" alt=\"\" width=\"49%\" height=\"49%\" style=\"display: inline\" />\n",
    "</div>\n",
    "<div style=\"display:block; width:100%\"><img src=\"./Sample_Predictions/1563556940.096606_prediction-5.png#thumbnail\" alt=\"\" width=\"49%\" height=\"49%\" style=\"display: inline\" />\n",
    "<img src=\"./Sample_Truths/True_prediction-5.png#thumbnail\" alt=\"\" width=\"49%\" height=\"49%\" style=\"display: inline\" />\n",
    "</div>\n",
    "<div style=\"display:block; width:100%\"><img src=\"./Sample_Predictions/1563556940.096606_prediction-6.png#thumbnail\" alt=\"\" width=\"49%\" height=\"49%\" style=\"display: inline\" />\n",
    "<img src=\"./Sample_Truths/True_prediction-6.png#thumbnail\" alt=\"\" width=\"49%\" height=\"49%\" style=\"display: inline\" />\n",
    "</div>\n",
    "<div style=\"display:block; width:100%\"><img src=\"./Sample_Predictions/1563556940.096606_prediction-7.png#thumbnail\" alt=\"\" width=\"49%\" height=\"49%\" style=\"display: inline\" />\n",
    "<img src=\"./Sample_Truths/True_prediction-7.png#thumbnail\" alt=\"\" width=\"49%\" height=\"49%\" style=\"display: inline\" />\n",
    "</div>\n",
    "<div style=\"display:block; width:100%\"><img src=\"./Sample_Predictions/1563556940.096606_prediction-8.png#thumbnail\" alt=\"\" width=\"49%\" height=\"49%\" style=\"display: inline\" />\n",
    "<img src=\"./Sample_Truths/True_prediction-8.png#thumbnail\" alt=\"\" width=\"49%\" height=\"49%\" style=\"display: inline\" />\n",
    "</div>\n",
    "<div style=\"display:block; width:100%\"><img src=\"./Sample_Predictions/1563556940.096606_prediction-9.png#thumbnail\" alt=\"\" width=\"49%\" height=\"49%\" style=\"display: inline\" />\n",
    "<img src=\"./Sample_Truths/True_prediction-9.png#thumbnail\" alt=\"\" width=\"49%\" height=\"49%\" style=\"display: inline\" />\n",
    "</div>"
   ]
  },
  {
   "cell_type": "markdown",
   "metadata": {},
   "source": [
    "Loss Function: Dice Loss"
   ]
  },
  {
   "cell_type": "markdown",
   "metadata": {},
   "source": [
    "Test Set Metrics:\n",
    "* **Loss**: 0.473\n",
    "* **Accuracy**: 0.989\n",
    "* **Dice Coefficient**: 0.527\n",
    "* **Intersection Over Union**: 0.699"
   ]
  },
  {
   "cell_type": "markdown",
   "metadata": {},
   "source": [
    "<div style=\"display:block; width:100%\"><img src=\"./Sample_Predictions/1563654917.593671_prediction-0.png#thumbnail\" alt=\"\" width=\"49%\" height=\"49%\" style=\"display: inline\" />\n",
    "<img src=\"./Sample_Truths/True_prediction-0.png#thumbnail\" alt=\"\" width=\"49%\" height=\"49%\" style=\"display: inline\" />\n",
    "</div>\n",
    "<div style=\"display:block; width:100%\"><img src=\"./Sample_Predictions/1563654917.593671_prediction-1.png#thumbnail\" alt=\"\" width=\"49%\" height=\"49%\" style=\"display: inline\" />\n",
    "<img src=\"./Sample_Truths/True_prediction-1.png#thumbnail\" alt=\"\" width=\"49%\" height=\"49%\" style=\"display: inline\" />\n",
    "</div>\n",
    "<div style=\"display:block; width:100%\"><img src=\"./Sample_Predictions/1563654917.593671_prediction-2.png#thumbnail\" alt=\"\" width=\"49%\" height=\"49%\" style=\"display: inline\" />\n",
    "<img src=\"./Sample_Truths/True_prediction-2.png#thumbnail\" alt=\"\" width=\"49%\" height=\"49%\" style=\"display: inline\" />\n",
    "</div>\n",
    "<div style=\"display:block; width:100%\"><img src=\"./Sample_Predictions/1563654917.593671_prediction-3.png#thumbnail\" alt=\"\" width=\"49%\" height=\"49%\" style=\"display: inline\" />\n",
    "<img src=\"./Sample_Truths/True_prediction-3.png#thumbnail\" alt=\"\" width=\"49%\" height=\"49%\" style=\"display: inline\" />\n",
    "</div>\n",
    "<div style=\"display:block; width:100%\"><img src=\"./Sample_Predictions/1563654917.593671_prediction-4.png#thumbnail\" alt=\"\" width=\"49%\" height=\"49%\" style=\"display: inline\" />\n",
    "<img src=\"./Sample_Truths/True_prediction-4.png#thumbnail\" alt=\"\" width=\"49%\" height=\"49%\" style=\"display: inline\" />\n",
    "</div>\n",
    "<div style=\"display:block; width:100%\"><img src=\"./Sample_Predictions/1563654917.593671_prediction-5.png#thumbnail\" alt=\"\" width=\"49%\" height=\"49%\" style=\"display: inline\" />\n",
    "<img src=\"./Sample_Truths/True_prediction-5.png#thumbnail\" alt=\"\" width=\"49%\" height=\"49%\" style=\"display: inline\" />\n",
    "</div>\n",
    "<div style=\"display:block; width:100%\"><img src=\"./Sample_Predictions/1563654917.593671_prediction-6.png#thumbnail\" alt=\"\" width=\"49%\" height=\"49%\" style=\"display: inline\" />\n",
    "<img src=\"./Sample_Truths/True_prediction-6.png#thumbnail\" alt=\"\" width=\"49%\" height=\"49%\" style=\"display: inline\" />\n",
    "</div>\n",
    "<div style=\"display:block; width:100%\"><img src=\"./Sample_Predictions/1563654917.593671_prediction-7.png#thumbnail\" alt=\"\" width=\"49%\" height=\"49%\" style=\"display: inline\" />\n",
    "<img src=\"./Sample_Truths/True_prediction-7.png#thumbnail\" alt=\"\" width=\"49%\" height=\"49%\" style=\"display: inline\" />\n",
    "</div>\n",
    "<div style=\"display:block; width:100%\"><img src=\"./Sample_Predictions/1563654917.593671_prediction-8.png#thumbnail\" alt=\"\" width=\"49%\" height=\"49%\" style=\"display: inline\" />\n",
    "<img src=\"./Sample_Truths/True_prediction-8.png#thumbnail\" alt=\"\" width=\"49%\" height=\"49%\" style=\"display: inline\" />\n",
    "</div>\n",
    "<div style=\"display:block; width:100%\"><img src=\"./Sample_Predictions/1563654917.593671_prediction-9.png#thumbnail\" alt=\"\" width=\"49%\" height=\"49%\" style=\"display: inline\" />\n",
    "<img src=\"./Sample_Truths/True_prediction-9.png#thumbnail\" alt=\"\" width=\"49%\" height=\"49%\" style=\"display: inline\" />\n",
    "</div>"
   ]
  },
  {
   "cell_type": "markdown",
   "metadata": {},
   "source": [
    "## ResNeXt101"
   ]
  },
  {
   "cell_type": "markdown",
   "metadata": {},
   "source": [
    "Loss Function: Weighted Binary Cross Entropy + Dice Loss"
   ]
  },
  {
   "cell_type": "markdown",
   "metadata": {},
   "source": [
    "Test Set Metrics:\n",
    "* **Loss**: 0.807\n",
    "* **Accuracy**: 0.988\n",
    "* **Dice Coefficient**: 0.452 \n",
    "* **Intersection Over Union**: 0.651"
   ]
  },
  {
   "cell_type": "markdown",
   "metadata": {},
   "source": [
    "<div style=\"display:block; width:100%\"><img src=\"./Sample_Predictions/1563649450.792694_prediction-0.png#thumbnail\" alt=\"\" width=\"49%\" height=\"49%\" style=\"display: inline\" />\n",
    "<img src=\"./Sample_Truths/True_prediction-0.png#thumbnail\" alt=\"\" width=\"49%\" height=\"49%\" style=\"display: inline\" />\n",
    "</div>\n",
    "<div style=\"display:block; width:100%\"><img src=\"./Sample_Predictions/1563649450.792694_prediction-1.png#thumbnail\" alt=\"\" width=\"49%\" height=\"49%\" style=\"display: inline\" />\n",
    "<img src=\"./Sample_Truths/True_prediction-1.png#thumbnail\" alt=\"\" width=\"49%\" height=\"49%\" style=\"display: inline\" />\n",
    "</div>\n",
    "<div style=\"display:block; width:100%\"><img src=\"./Sample_Predictions/1563649450.792694_prediction-2.png#thumbnail\" alt=\"\" width=\"49%\" height=\"49%\" style=\"display: inline\" />\n",
    "<img src=\"./Sample_Truths/True_prediction-2.png#thumbnail\" alt=\"\" width=\"49%\" height=\"49%\" style=\"display: inline\" />\n",
    "</div>\n",
    "<div style=\"display:block; width:100%\"><img src=\"./Sample_Predictions/1563649450.792694_prediction-3.png#thumbnail\" alt=\"\" width=\"49%\" height=\"49%\" style=\"display: inline\" />\n",
    "<img src=\"./Sample_Truths/True_prediction-3.png#thumbnail\" alt=\"\" width=\"49%\" height=\"49%\" style=\"display: inline\" />\n",
    "</div>\n",
    "<div style=\"display:block; width:100%\"><img src=\"./Sample_Predictions/1563649450.792694_prediction-4.png#thumbnail\" alt=\"\" width=\"49%\" height=\"49%\" style=\"display: inline\" />\n",
    "<img src=\"./Sample_Truths/True_prediction-4.png#thumbnail\" alt=\"\" width=\"49%\" height=\"49%\" style=\"display: inline\" />\n",
    "</div>\n",
    "<div style=\"display:block; width:100%\"><img src=\"./Sample_Predictions/1563649450.792694_prediction-5.png#thumbnail\" alt=\"\" width=\"49%\" height=\"49%\" style=\"display: inline\" />\n",
    "<img src=\"./Sample_Truths/True_prediction-5.png#thumbnail\" alt=\"\" width=\"49%\" height=\"49%\" style=\"display: inline\" />\n",
    "</div>\n",
    "<div style=\"display:block; width:100%\"><img src=\"./Sample_Predictions/1563649450.792694_prediction-6.png#thumbnail\" alt=\"\" width=\"49%\" height=\"49%\" style=\"display: inline\" />\n",
    "<img src=\"./Sample_Truths/True_prediction-6.png#thumbnail\" alt=\"\" width=\"49%\" height=\"49%\" style=\"display: inline\" />\n",
    "</div>\n",
    "<div style=\"display:block; width:100%\"><img src=\"./Sample_Predictions/1563654917.593671_prediction-7.png#thumbnail\" alt=\"\" width=\"49%\" height=\"49%\" style=\"display: inline\" />\n",
    "<img src=\"./Sample_Truths/True_prediction-7.png#thumbnail\" alt=\"\" width=\"49%\" height=\"49%\" style=\"display: inline\" />\n",
    "</div>\n",
    "<div style=\"display:block; width:100%\"><img src=\"./Sample_Predictions/1563649450.792694_prediction-8.png#thumbnail\" alt=\"\" width=\"49%\" height=\"49%\" style=\"display: inline\" />\n",
    "<img src=\"./Sample_Truths/True_prediction-8.png#thumbnail\" alt=\"\" width=\"49%\" height=\"49%\" style=\"display: inline\" />\n",
    "</div>\n",
    "<div style=\"display:block; width:100%\"><img src=\"./Sample_Predictions/1563649450.792694_prediction-9.png#thumbnail\" alt=\"\" width=\"49%\" height=\"49%\" style=\"display: inline\" />\n",
    "<img src=\"./Sample_Truths/True_prediction-9.png#thumbnail\" alt=\"\" width=\"49%\" height=\"49%\" style=\"display: inline\" />\n",
    "</div>"
   ]
  },
  {
   "cell_type": "markdown",
   "metadata": {},
   "source": [
    "Loss Function: Dice Loss"
   ]
  },
  {
   "cell_type": "markdown",
   "metadata": {},
   "source": [
    "Test Set Metrics:\n",
    "* **Loss**: 0.475\n",
    "* **Accuracy**: 0.9895\n",
    "* **Dice Coefficient**: 0.524 \n",
    "* **Intersection Over Union**: 0.696"
   ]
  },
  {
   "cell_type": "markdown",
   "metadata": {},
   "source": [
    "<div style=\"display:block; width:100%\"><img src=\"./Sample_Predictions/1563659959.360829_prediction-0.png#thumbnail\" alt=\"\" width=\"49%\" height=\"49%\" style=\"display: inline\" />\n",
    "<img src=\"./Sample_Truths/True_prediction-0.png#thumbnail\" alt=\"\" width=\"49%\" height=\"49%\" style=\"display: inline\" />\n",
    "</div>\n",
    "<div style=\"display:block; width:100%\"><img src=\"./Sample_Predictions/1563659959.360829_prediction-1.png#thumbnail\" alt=\"\" width=\"49%\" height=\"49%\" style=\"display: inline\" />\n",
    "<img src=\"./Sample_Truths/True_prediction-1.png#thumbnail\" alt=\"\" width=\"49%\" height=\"49%\" style=\"display: inline\" />\n",
    "</div>\n",
    "<div style=\"display:block; width:100%\"><img src=\"./Sample_Predictions/1563659959.360829_prediction-2.png#thumbnail\" alt=\"\" width=\"49%\" height=\"49%\" style=\"display: inline\" />\n",
    "<img src=\"./Sample_Truths/True_prediction-2.png#thumbnail\" alt=\"\" width=\"49%\" height=\"49%\" style=\"display: inline\" />\n",
    "</div>\n",
    "<div style=\"display:block; width:100%\"><img src=\"./Sample_Predictions/1563659959.360829_prediction-3.png#thumbnail\" alt=\"\" width=\"49%\" height=\"49%\" style=\"display: inline\" />\n",
    "<img src=\"./Sample_Truths/True_prediction-3.png#thumbnail\" alt=\"\" width=\"49%\" height=\"49%\" style=\"display: inline\" />\n",
    "</div>\n",
    "<div style=\"display:block; width:100%\"><img src=\"./Sample_Predictions/1563659959.360829_prediction-4.png#thumbnail\" alt=\"\" width=\"49%\" height=\"49%\" style=\"display: inline\" />\n",
    "<img src=\"./Sample_Truths/True_prediction-4.png#thumbnail\" alt=\"\" width=\"49%\" height=\"49%\" style=\"display: inline\" />\n",
    "</div>\n",
    "<div style=\"display:block; width:100%\"><img src=\"./Sample_Predictions/1563659959.360829_prediction-5.png#thumbnail\" alt=\"\" width=\"49%\" height=\"49%\" style=\"display: inline\" />\n",
    "<img src=\"./Sample_Truths/True_prediction-5.png#thumbnail\" alt=\"\" width=\"49%\" height=\"49%\" style=\"display: inline\" />\n",
    "</div>\n",
    "<div style=\"display:block; width:100%\"><img src=\"./Sample_Predictions/1563649450.792694_prediction-6.png#thumbnail\" alt=\"\" width=\"49%\" height=\"49%\" style=\"display: inline\" />\n",
    "<img src=\"./Sample_Truths/True_prediction-6.png#thumbnail\" alt=\"\" width=\"49%\" height=\"49%\" style=\"display: inline\" />\n",
    "</div>\n",
    "<div style=\"display:block; width:100%\"><img src=\"./Sample_Predictions/1563659959.360829_prediction-7.png#thumbnail\" alt=\"\" width=\"49%\" height=\"49%\" style=\"display: inline\" />\n",
    "<img src=\"./Sample_Truths/True_prediction-7.png#thumbnail\" alt=\"\" width=\"49%\" height=\"49%\" style=\"display: inline\" />\n",
    "</div>\n",
    "<div style=\"display:block; width:100%\"><img src=\"./Sample_Predictions/1563659959.360829_prediction-8.png#thumbnail\" alt=\"\" width=\"49%\" height=\"49%\" style=\"display: inline\" />\n",
    "<img src=\"./Sample_Truths/True_prediction-8.png#thumbnail\" alt=\"\" width=\"49%\" height=\"49%\" style=\"display: inline\" />\n",
    "</div>\n",
    "<div style=\"display:block; width:100%\"><img src=\"./Sample_Predictions/1563659959.360829_prediction-9.png#thumbnail\" alt=\"\" width=\"49%\" height=\"49%\" style=\"display: inline\" />\n",
    "<img src=\"./Sample_Truths/True_prediction-9.png#thumbnail\" alt=\"\" width=\"49%\" height=\"49%\" style=\"display: inline\" />\n",
    "</div>"
   ]
  },
  {
   "cell_type": "markdown",
   "metadata": {},
   "source": [
    "## EfficientNet B3"
   ]
  },
  {
   "cell_type": "markdown",
   "metadata": {},
   "source": [
    "Loss Function: Weighted Binary Cross Entropy + Dice Loss"
   ]
  },
  {
   "cell_type": "markdown",
   "metadata": {},
   "source": [
    "Test Set Metrics:\n",
    "* **Loss**: 0.474\n",
    "* **Accuracy**: 0.990\n",
    "* **Dice Coefficient**: 0.526 \n",
    "* **Intersection Over Union**: 0.692"
   ]
  },
  {
   "cell_type": "markdown",
   "metadata": {},
   "source": [
    "<div style=\"display:block; width:100%\"><img src=\"./Sample_Predictions/1563654927.317915_prediction-0.png#thumbnail\" alt=\"\" width=\"49%\" height=\"49%\" style=\"display: inline\" />\n",
    "<img src=\"./Sample_Truths/True_prediction-0.png#thumbnail\" alt=\"\" width=\"49%\" height=\"49%\" style=\"display: inline\" />\n",
    "</div>\n",
    "<div style=\"display:block; width:100%\"><img src=\"./Sample_Predictions/1563654927.317915_prediction-1.png#thumbnail\" alt=\"\" width=\"49%\" height=\"49%\" style=\"display: inline\" />\n",
    "<img src=\"./Sample_Truths/True_prediction-1.png#thumbnail\" alt=\"\" width=\"49%\" height=\"49%\" style=\"display: inline\" />\n",
    "</div>\n",
    "<div style=\"display:block; width:100%\"><img src=\"./Sample_Predictions/1563654927.317915_prediction-2.png#thumbnail\" alt=\"\" width=\"49%\" height=\"49%\" style=\"display: inline\" />\n",
    "<img src=\"./Sample_Truths/True_prediction-2.png#thumbnail\" alt=\"\" width=\"49%\" height=\"49%\" style=\"display: inline\" />\n",
    "</div>\n",
    "<div style=\"display:block; width:100%\"><img src=\"./Sample_Predictions/1563654927.317915_prediction-3.png#thumbnail\" alt=\"\" width=\"49%\" height=\"49%\" style=\"display: inline\" />\n",
    "<img src=\"./Sample_Truths/True_prediction-3.png#thumbnail\" alt=\"\" width=\"49%\" height=\"49%\" style=\"display: inline\" />\n",
    "</div>\n",
    "<div style=\"display:block; width:100%\"><img src=\"./Sample_Predictions/1563654927.317915_prediction-4.png#thumbnail\" alt=\"\" width=\"49%\" height=\"49%\" style=\"display: inline\" />\n",
    "<img src=\"./Sample_Truths/True_prediction-4.png#thumbnail\" alt=\"\" width=\"49%\" height=\"49%\" style=\"display: inline\" />\n",
    "</div>\n",
    "<div style=\"display:block; width:100%\"><img src=\"./Sample_Predictions/1563654927.317915_prediction-5.png#thumbnail\" alt=\"\" width=\"49%\" height=\"49%\" style=\"display: inline\" />\n",
    "<img src=\"./Sample_Truths/True_prediction-5.png#thumbnail\" alt=\"\" width=\"49%\" height=\"49%\" style=\"display: inline\" />\n",
    "</div>\n",
    "<div style=\"display:block; width:100%\"><img src=\"./Sample_Predictions/1563654927.317915_prediction-6.png#thumbnail\" alt=\"\" width=\"49%\" height=\"49%\" style=\"display: inline\" />\n",
    "<img src=\"./Sample_Truths/True_prediction-6.png#thumbnail\" alt=\"\" width=\"49%\" height=\"49%\" style=\"display: inline\" />\n",
    "</div>\n",
    "<div style=\"display:block; width:100%\"><img src=\"./Sample_Predictions/1563654927.317915_prediction-7.png#thumbnail\" alt=\"\" width=\"49%\" height=\"49%\" style=\"display: inline\" />\n",
    "<img src=\"./Sample_Truths/True_prediction-7.png#thumbnail\" alt=\"\" width=\"49%\" height=\"49%\" style=\"display: inline\" />\n",
    "</div>\n",
    "<div style=\"display:block; width:100%\"><img src=\"./Sample_Predictions/1563654927.317915_prediction-8.png#thumbnail\" alt=\"\" width=\"49%\" height=\"49%\" style=\"display: inline\" />\n",
    "<img src=\"./Sample_Truths/True_prediction-8.png#thumbnail\" alt=\"\" width=\"49%\" height=\"49%\" style=\"display: inline\" />\n",
    "</div>\n",
    "<div style=\"display:block; width:100%\"><img src=\"./Sample_Predictions/1563654927.317915_prediction-9.png#thumbnail\" alt=\"\" width=\"49%\" height=\"49%\" style=\"display: inline\" />\n",
    "<img src=\"./Sample_Truths/True_prediction-9.png#thumbnail\" alt=\"\" width=\"49%\" height=\"49%\" style=\"display: inline\" />\n",
    "</div>"
   ]
  },
  {
   "cell_type": "markdown",
   "metadata": {},
   "source": [
    "Loss Function: Dice Loss"
   ]
  },
  {
   "cell_type": "markdown",
   "metadata": {},
   "source": [
    "Test Set Metrics:\n",
    "* **Loss**: 0.807\n",
    "* **Accuracy**: 0.988\n",
    "* **Dice Coefficient**: 0.452 \n",
    "* **Intersection Over Union**: 0.651"
   ]
  },
  {
   "cell_type": "markdown",
   "metadata": {},
   "source": [
    "<div style=\"display:block; width:100%\"><img src=\"./Sample_Predictions/1563649450.792694_prediction-0.png#thumbnail\" alt=\"\" width=\"49%\" height=\"49%\" style=\"display: inline\" />\n",
    "<img src=\"./Sample_Truths/True_prediction-0.png#thumbnail\" alt=\"\" width=\"49%\" height=\"49%\" style=\"display: inline\" />\n",
    "</div>\n",
    "<div style=\"display:block; width:100%\"><img src=\"./Sample_Predictions/1563649450.792694_prediction-1.png#thumbnail\" alt=\"\" width=\"49%\" height=\"49%\" style=\"display: inline\" />\n",
    "<img src=\"./Sample_Truths/True_prediction-1.png#thumbnail\" alt=\"\" width=\"49%\" height=\"49%\" style=\"display: inline\" />\n",
    "</div>\n",
    "<div style=\"display:block; width:100%\"><img src=\"./Sample_Predictions/1563649450.792694_prediction-2.png#thumbnail\" alt=\"\" width=\"49%\" height=\"49%\" style=\"display: inline\" />\n",
    "<img src=\"./Sample_Truths/True_prediction-2.png#thumbnail\" alt=\"\" width=\"49%\" height=\"49%\" style=\"display: inline\" />\n",
    "</div>\n",
    "<div style=\"display:block; width:100%\"><img src=\"./Sample_Predictions/1563649450.792694_prediction-3.png#thumbnail\" alt=\"\" width=\"49%\" height=\"49%\" style=\"display: inline\" />\n",
    "<img src=\"./Sample_Truths/True_prediction-3.png#thumbnail\" alt=\"\" width=\"49%\" height=\"49%\" style=\"display: inline\" />\n",
    "</div>\n",
    "<div style=\"display:block; width:100%\"><img src=\"./Sample_Predictions/1563649450.792694_prediction-4.png#thumbnail\" alt=\"\" width=\"49%\" height=\"49%\" style=\"display: inline\" />\n",
    "<img src=\"./Sample_Truths/True_prediction-4.png#thumbnail\" alt=\"\" width=\"49%\" height=\"49%\" style=\"display: inline\" />\n",
    "</div>\n",
    "<div style=\"display:block; width:100%\"><img src=\"./Sample_Predictions/1563649450.792694_prediction-5.png#thumbnail\" alt=\"\" width=\"49%\" height=\"49%\" style=\"display: inline\" />\n",
    "<img src=\"./Sample_Truths/True_prediction-5.png#thumbnail\" alt=\"\" width=\"49%\" height=\"49%\" style=\"display: inline\" />\n",
    "</div>\n",
    "<div style=\"display:block; width:100%\"><img src=\"./Sample_Predictions/1563649450.792694_prediction-6.png#thumbnail\" alt=\"\" width=\"49%\" height=\"49%\" style=\"display: inline\" />\n",
    "<img src=\"./Sample_Truths/True_prediction-6.png#thumbnail\" alt=\"\" width=\"49%\" height=\"49%\" style=\"display: inline\" />\n",
    "</div>\n",
    "<div style=\"display:block; width:100%\"><img src=\"./Sample_Predictions/1563654917.593671_prediction-7.png#thumbnail\" alt=\"\" width=\"49%\" height=\"49%\" style=\"display: inline\" />\n",
    "<img src=\"./Sample_Truths/True_prediction-7.png#thumbnail\" alt=\"\" width=\"49%\" height=\"49%\" style=\"display: inline\" />\n",
    "</div>\n",
    "<div style=\"display:block; width:100%\"><img src=\"./Sample_Predictions/1563649450.792694_prediction-8.png#thumbnail\" alt=\"\" width=\"49%\" height=\"49%\" style=\"display: inline\" />\n",
    "<img src=\"./Sample_Truths/True_prediction-8.png#thumbnail\" alt=\"\" width=\"49%\" height=\"49%\" style=\"display: inline\" />\n",
    "</div>\n",
    "<div style=\"display:block; width:100%\"><img src=\"./Sample_Predictions/1563649450.792694_prediction-9.png#thumbnail\" alt=\"\" width=\"49%\" height=\"49%\" style=\"display: inline\" />\n",
    "<img src=\"./Sample_Truths/True_prediction-9.png#thumbnail\" alt=\"\" width=\"49%\" height=\"49%\" style=\"display: inline\" />\n",
    "</div>"
   ]
  },
  {
   "cell_type": "code",
   "execution_count": null,
   "metadata": {},
   "outputs": [],
   "source": []
  },
  {
   "cell_type": "code",
   "execution_count": null,
   "metadata": {},
   "outputs": [],
   "source": []
  },
  {
   "cell_type": "code",
   "execution_count": null,
   "metadata": {},
   "outputs": [],
   "source": []
  },
  {
   "cell_type": "code",
   "execution_count": null,
   "metadata": {},
   "outputs": [],
   "source": []
  }
 ],
 "metadata": {
  "kernelspec": {
   "display_name": "Python 3",
   "language": "python",
   "name": "python3"
  },
  "language_info": {
   "codemirror_mode": {
    "name": "ipython",
    "version": 3
   },
   "file_extension": ".py",
   "mimetype": "text/x-python",
   "name": "python",
   "nbconvert_exporter": "python",
   "pygments_lexer": "ipython3",
   "version": "3.6.8"
  }
 },
 "nbformat": 4,
 "nbformat_minor": 2
}
